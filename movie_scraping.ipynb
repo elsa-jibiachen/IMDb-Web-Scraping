{
 "cells": [
  {
   "cell_type": "markdown",
   "metadata": {},
   "source": [
    "**IMDB Web Scraping Project**"
   ]
  },
  {
   "cell_type": "markdown",
   "metadata": {},
   "source": [
    "Collect the movie tags which contain the details of each movie. IMDb's website is scraped for movies in the genre that the user wants till the user-defined number of movies are attained."
   ]
  },
  {
   "cell_type": "code",
   "execution_count": 26,
   "metadata": {},
   "outputs": [],
   "source": [
    "from selenium import webdriver\n",
    "from selenium.common import TimeoutException\n",
    "from selenium.webdriver.common.by import By\n",
    "from selenium.webdriver.support import expected_conditions as EC\n",
    "from selenium.webdriver.support.wait import WebDriverWait\n",
    "\n",
    "def get_movie_tags(genre, movie_no):\n",
    "    driver = webdriver.Chrome()\n",
    "    driver.maximize_window()\n",
    "    wait = WebDriverWait(driver, 10)\n",
    "    short_wait = WebDriverWait(driver, 5)\n",
    "    collected_movie_tags = []\n",
    "    collected_movie_html = []\n",
    "\n",
    "    try:\n",
    "        start = \"https://www.imdb.com/search/title/?genres=\"\n",
    "        end = \"&explore=genres&title_type=feature\"\n",
    "        driver.get(start + genre + end)\n",
    "\n",
    "        # collect movies\n",
    "        iteration = 0\n",
    "        last_movie_index = 0\n",
    "\n",
    "        while len(collected_movie_tags) < movie_no:\n",
    "            displayed_movies = wait.until(EC.visibility_of_all_elements_located(\n",
    "                (By.XPATH, \"//li[contains(@class, 'ipc-metadata-list-summary-item')]\")\n",
    "            ))\n",
    "            \n",
    "            for i in range(last_movie_index, len(displayed_movies)):\n",
    "                el = wait.until(\n",
    "                    EC.visibility_of_element_located(\n",
    "                        (By.XPATH, f\"(//li[contains(@class, 'ipc-metadata-list-summary-item')])[{i + 1}]\")\n",
    "                    )\n",
    "                )\n",
    "                collected_movie_tags.append(el)\n",
    "                collected_movie_html.append(el.get_attribute('outerHTML'))\n",
    "\n",
    "                if len(collected_movie_tags) >= movie_no:\n",
    "                    break\n",
    "\n",
    "            # click load 50 more (if needed)\n",
    "            last_movie_index = len(collected_movie_html)\n",
    "            if last_movie_index < movie_no:\n",
    "                try:\n",
    "                    show_more_btn = wait.until(EC.element_to_be_clickable(\n",
    "                        (By.XPATH, \"//button[contains(@class, 'ipc-see-more__button')]\")\n",
    "                    ))\n",
    "                    driver.execute_script(\"arguments[0].click();\", show_more_btn)\n",
    "                    wait.until(EC.invisibility_of_element_located(\n",
    "                        (By.XPATH, \"//button[contains(@class, 'ipc-see-more__button') and @disabled]\")\n",
    "                    ))\n",
    "                    driver.execute_script(\"window.scrollTo(0, document.body.scrollHeight);\")\n",
    "                except TimeoutException:\n",
    "                    pass\n",
    "\n",
    "            iteration += 1\n",
    "    \n",
    "    finally:\n",
    "        driver.quit()\n",
    "\n",
    "    return collected_movie_html\n"
   ]
  },
  {
   "cell_type": "markdown",
   "metadata": {},
   "source": [
    "These tags are parsed and details of the movie such as its name, year of release, duration, rating etc. are stored in a dictionary."
   ]
  },
  {
   "cell_type": "code",
   "execution_count": 27,
   "metadata": {},
   "outputs": [],
   "source": [
    "from bs4 import BeautifulSoup\n",
    "\n",
    "def convert_duration_to_minutes(duration_str):\n",
    "    if not duration_str:\n",
    "        return None\n",
    "    \n",
    "    hours, minutes = 0, 0\n",
    "    parts = duration_str.split()\n",
    "    \n",
    "    if 'h' in parts[0]:\n",
    "        hours = int(parts[0].replace('h', ''))\n",
    "    if len(parts) > 1 and 'm' in parts[1]:\n",
    "        minutes = int(parts[1].replace('m', ''))\n",
    "    \n",
    "    total_minutes = hours * 60 + minutes\n",
    "    return total_minutes\n",
    "\n",
    "def parse_movie_details(movie_html_list):\n",
    "    movie_details = []\n",
    "    for movie_html in movie_html_list:\n",
    "        soup = BeautifulSoup(movie_html, 'html.parser')\n",
    "        try:\n",
    "            name = soup.find('h3').text\n",
    "            name = name.split('. ', 1)[-1]\n",
    "\n",
    "            metadata_items = soup.find_all('span', class_='sc-b189961a-8 kLaxqf dli-title-metadata-item')\n",
    "            year = metadata_items[0].text if len(metadata_items) > 0 else None\n",
    "            duration = metadata_items[1].text if len(metadata_items) > 1 else None\n",
    "            duration = convert_duration_to_minutes(duration)\n",
    "            certificate = metadata_items[2].text if len(metadata_items) > 2 else None\n",
    "\n",
    "            rating_span = soup.find('span', class_='ratingGroup--imdb-rating')\n",
    "            rating = rating_span.text.strip().split()[0] if rating_span else None\n",
    "\n",
    "            metascore_span = soup.find('span', class_='sc-b0901df4-0 bcQdDJ metacritic-score-box')\n",
    "            metascore = metascore_span.text.strip() if metascore_span else None\n",
    "            \n",
    "            movie_details.append({\n",
    "                \"name\": name,\n",
    "                \"year\": year,\n",
    "                \"duration\": duration,\n",
    "                \"certificate\": certificate,\n",
    "                \"rating\": rating,\n",
    "                \"metascore\": metascore\n",
    "            })\n",
    "        except Exception as e:\n",
    "            print(f\"Error parsing movie details: {e}\")\n",
    "            continue\n",
    "    return movie_details\n"
   ]
  },
  {
   "cell_type": "markdown",
   "metadata": {},
   "source": [
    "The dictionary is stored as a csv file which we can read using Pandas to explore the data "
   ]
  },
  {
   "cell_type": "code",
   "execution_count": 28,
   "metadata": {},
   "outputs": [],
   "source": [
    "def write_csv(items, path):\n",
    "    with open(path, 'w') as f:\n",
    "        if len(items) == 0:\n",
    "            return\n",
    "        \n",
    "        headers = '|'.join(list(items[0].keys()))\n",
    "        f.write(headers + '\\n')\n",
    "        \n",
    "        for item in items:\n",
    "            values = []\n",
    "            for value in item.values():\n",
    "                values.append(str(value))\n",
    "            f.write('|'.join(values) + '\\n')"
   ]
  },
  {
   "cell_type": "markdown",
   "metadata": {},
   "source": [
    "Let's use these functions to get the data of 200 comedy movies from IMDb"
   ]
  },
  {
   "cell_type": "code",
   "execution_count": 29,
   "metadata": {},
   "outputs": [],
   "source": [
    "movie_tags_html = get_movie_tags('comedy', 200)"
   ]
  },
  {
   "cell_type": "code",
   "execution_count": 30,
   "metadata": {},
   "outputs": [],
   "source": [
    "movie_details = parse_movie_details(movie_tags_html[:])"
   ]
  },
  {
   "cell_type": "code",
   "execution_count": 31,
   "metadata": {},
   "outputs": [],
   "source": [
    "write_csv(movie_details, 'comedy-movies.csv')"
   ]
  },
  {
   "cell_type": "code",
   "execution_count": 33,
   "metadata": {},
   "outputs": [
    {
     "data": {
      "text/html": [
       "<div>\n",
       "<style scoped>\n",
       "    .dataframe tbody tr th:only-of-type {\n",
       "        vertical-align: middle;\n",
       "    }\n",
       "\n",
       "    .dataframe tbody tr th {\n",
       "        vertical-align: top;\n",
       "    }\n",
       "\n",
       "    .dataframe thead th {\n",
       "        text-align: right;\n",
       "    }\n",
       "</style>\n",
       "<table border=\"1\" class=\"dataframe\">\n",
       "  <thead>\n",
       "    <tr style=\"text-align: right;\">\n",
       "      <th></th>\n",
       "      <th>name</th>\n",
       "      <th>year</th>\n",
       "      <th>duration</th>\n",
       "      <th>certificate</th>\n",
       "      <th>rating</th>\n",
       "      <th>metascore</th>\n",
       "    </tr>\n",
       "  </thead>\n",
       "  <tbody>\n",
       "    <tr>\n",
       "      <th>0</th>\n",
       "      <td>Hit Man</td>\n",
       "      <td>2023</td>\n",
       "      <td>115.0</td>\n",
       "      <td>R</td>\n",
       "      <td>7.0</td>\n",
       "      <td>82.0</td>\n",
       "    </tr>\n",
       "    <tr>\n",
       "      <th>1</th>\n",
       "      <td>Bad Boys: Ride or Die</td>\n",
       "      <td>2024</td>\n",
       "      <td>115.0</td>\n",
       "      <td>R</td>\n",
       "      <td>7.0</td>\n",
       "      <td>54.0</td>\n",
       "    </tr>\n",
       "    <tr>\n",
       "      <th>2</th>\n",
       "      <td>Inside Out 2</td>\n",
       "      <td>2024</td>\n",
       "      <td>96.0</td>\n",
       "      <td>PG</td>\n",
       "      <td>8.0</td>\n",
       "      <td>74.0</td>\n",
       "    </tr>\n",
       "    <tr>\n",
       "      <th>3</th>\n",
       "      <td>The Fall Guy</td>\n",
       "      <td>2024</td>\n",
       "      <td>126.0</td>\n",
       "      <td>PG-13</td>\n",
       "      <td>7.0</td>\n",
       "      <td>73.0</td>\n",
       "    </tr>\n",
       "    <tr>\n",
       "      <th>4</th>\n",
       "      <td>Inside Out</td>\n",
       "      <td>2015</td>\n",
       "      <td>95.0</td>\n",
       "      <td>PG</td>\n",
       "      <td>8.1</td>\n",
       "      <td>94.0</td>\n",
       "    </tr>\n",
       "  </tbody>\n",
       "</table>\n",
       "</div>"
      ],
      "text/plain": [
       "                    name  year  duration certificate  rating  metascore\n",
       "0                Hit Man  2023     115.0           R     7.0       82.0\n",
       "1  Bad Boys: Ride or Die  2024     115.0           R     7.0       54.0\n",
       "2           Inside Out 2  2024      96.0          PG     8.0       74.0\n",
       "3           The Fall Guy  2024     126.0       PG-13     7.0       73.0\n",
       "4             Inside Out  2015      95.0          PG     8.1       94.0"
      ]
     },
     "execution_count": 33,
     "metadata": {},
     "output_type": "execute_result"
    }
   ],
   "source": [
    "import pandas as pd\n",
    "pd.read_csv('comedy-movies.csv', sep = '|', encoding='latin1').head()"
   ]
  }
 ],
 "metadata": {
  "kernelspec": {
   "display_name": "Python 3",
   "language": "python",
   "name": "python3"
  },
  "language_info": {
   "codemirror_mode": {
    "name": "ipython",
    "version": 3
   },
   "file_extension": ".py",
   "mimetype": "text/x-python",
   "name": "python",
   "nbconvert_exporter": "python",
   "pygments_lexer": "ipython3",
   "version": "3.11.3"
  }
 },
 "nbformat": 4,
 "nbformat_minor": 2
}
